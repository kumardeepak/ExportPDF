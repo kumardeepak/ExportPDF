{
 "cells": [
  {
   "cell_type": "code",
   "execution_count": 1,
   "metadata": {},
   "outputs": [],
   "source": [
    "import json\n",
    "import os\n"
   ]
  },
  {
   "cell_type": "code",
   "execution_count": 2,
   "metadata": {},
   "outputs": [],
   "source": [
    "from reportlab.platypus import Paragraph, SimpleDocTemplate, Spacer  \n",
    "from reportlab.lib.styles import getSampleStyleSheet, ParagraphStyle   \n",
    "from reportlab.lib.enums import TA_CENTER,TA_JUSTIFY       \n",
    "from reportlab.pdfbase import pdfmetrics      \n",
    "from reportlab.pdfbase.ttfonts import TTFont   \n",
    "from reportlab.lib.fonts import addMapping\n",
    "from reportlab.lib.pagesizes import letter, A4\n",
    "from reportlab.pdfgen import canvas"
   ]
  },
  {
   "cell_type": "code",
   "execution_count": 3,
   "metadata": {},
   "outputs": [],
   "source": [
    "def get_document_pages(filename, encoding='utf-8'):\n",
    "    with open(filename, 'r', encoding=encoding) as f:\n",
    "        data = json.load(f)\n",
    "    return data['inputs'][0]['pages']\n",
    "\n",
    "def vertices_to_boundingbox(vertices):\n",
    "    c1, c2, c3, c4  = vertices[0], vertices[1], vertices[2], vertices[3]\n",
    "    left, top       = c1['x'], c1['y']\n",
    "    width, height   = (c3['x'] - c1['x']), (c3['y'] - c1['y'])\n",
    "    return (left, top, width, height)\n"
   ]
  },
  {
   "cell_type": "code",
   "execution_count": 4,
   "metadata": {},
   "outputs": [],
   "source": [
    "def get_page_paragraphs_lines(page):\n",
    "    page_paragraphs    = []\n",
    "    page_lines         = []\n",
    "    \n",
    "    if 'regions'in page.keys():\n",
    "        for para_region in page['regions']:\n",
    "            if 'class' in para_region.keys() and 'regions' in para_region.keys():\n",
    "                if para_region['class'] == 'PARA':\n",
    "                    lines = []\n",
    "                    for line_region in para_region['regions']:\n",
    "                        if 'class' in line_region.keys() and 'regions' in line_region.keys():\n",
    "                            if line_region['class'] == 'LINE':\n",
    "                                words = []\n",
    "                                for word_region in line_region['regions']:\n",
    "                                    if 'class' in word_region.keys() and 'regions' in word_region.keys() and 'text' in word_region.keys():\n",
    "                                        if word_region['class'] == 'WORD':\n",
    "                                            words.append(word_region['text'])\n",
    "\n",
    "                                lines.append(' '.join(words) + '\\n')\n",
    "                                page_lines.append({'boundingBox': vertices_to_boundingbox(line_region['boundingBox']['vertices']), \n",
    "                                            'text': ' '.join(words)})\n",
    "\n",
    "                    page_paragraphs.append({'boundingBox': vertices_to_boundingbox(para_region['boundingBox']['vertices']), \n",
    "                                            'text': ''.join(lines)})\n",
    "    return page_paragraphs, page_lines\n",
    "\n",
    "def get_page_dimensions(page):\n",
    "    _, _, w, h = vertices_to_boundingbox(page['boundingBox']['vertices'])\n",
    "    return w, h\n",
    "\n",
    "def draw_line_text(page_canvas, x, y, text, word_space=1.75, horizontal_scale=105, font_name=None, font_size=8):\n",
    "    txtobj = page_canvas.beginText()\n",
    "    txtobj.setTextOrigin(x, y)\n",
    "    txtobj.setWordSpace(1.75)\n",
    "    txtobj.setHorizScale(105)\n",
    "    txtobj.setFont(font_name, font_size)\n",
    "    txtobj.textLine(text=text)\n",
    "    page_canvas.drawText(txtobj)\n",
    "    \n",
    "def create_pdf(pages, pdf_filepath, font_name, scale_factor=4):\n",
    "    '''\n",
    "     using first page w & h as canvas\n",
    "    '''\n",
    "    w, h                      = get_page_dimensions(pages[0])\n",
    "    pagesize                  = (w/scale_factor, h/scale_factor)\n",
    "    c                         = canvas.Canvas(pdf_filepath, pagesize=pagesize)\n",
    "    for page in pages:\n",
    "        paragraphs, lines     = get_page_paragraphs_lines(page)\n",
    "        \n",
    "        for line in lines:\n",
    "            boundingBox, text = line['boundingBox'], line['text']\n",
    "            x, y, _, _        = boundingBox\n",
    "            y                 = h - y\n",
    "            draw_line_text(c, x/scale_factor, y/scale_factor, text, 1.75, 105, font_name, 30/scale_factor)\n",
    "        c.showPage()\n",
    "    c.save()\n",
    "\n",
    "def load_font(font_name='arial-unicode-ms', font_dir=None):\n",
    "    pdfmetrics.registerFont(TTFont(font_name, os.path.join(font_dir, font_name + '.ttf'))) "
   ]
  },
  {
   "cell_type": "markdown",
   "metadata": {},
   "source": [
    "# directory setup"
   ]
  },
  {
   "cell_type": "code",
   "execution_count": 5,
   "metadata": {},
   "outputs": [],
   "source": [
    "WORKING_DIR      = os.path.dirname(os.getcwd())\n",
    "FONT_DIR         = os.path.join(WORKING_DIR, 'font')\n",
    "\n",
    "DATA_DIR         = os.path.join(WORKING_DIR, 'data')\n",
    "DATA_INPUT_DIR   = os.path.join(DATA_DIR, 'input')\n",
    "DATA_OUTPUT_DIR  = os.path.join(DATA_DIR, 'output')"
   ]
  },
  {
   "cell_type": "markdown",
   "metadata": {},
   "source": [
    "# loading vernacular  font"
   ]
  },
  {
   "cell_type": "code",
   "execution_count": 6,
   "metadata": {},
   "outputs": [],
   "source": [
    "filename         = '6.tamil.json'\n",
    "input_filepath   = os.path.join(DATA_INPUT_DIR, filename)\n",
    "output_filepath  = os.path.join(DATA_OUTPUT_DIR, filename + '.pdf')"
   ]
  },
  {
   "cell_type": "code",
   "execution_count": 7,
   "metadata": {},
   "outputs": [
    {
     "name": "stdout",
     "output_type": "stream",
     "text": [
      "total number of pages in document 3\n"
     ]
    }
   ],
   "source": [
    "pages  = get_document_pages(input_filepath)\n",
    "print('total number of pages in document %d' % (len(pages)))"
   ]
  },
  {
   "cell_type": "code",
   "execution_count": 8,
   "metadata": {},
   "outputs": [
    {
     "name": "stdout",
     "output_type": "stream",
     "text": [
      "/Users/kd/Workspace/python/PDF/REPORTLAB/ExportPDF/data/output/6.tamil.json.pdf created\n"
     ]
    }
   ],
   "source": [
    "load_font('arial-unicode-ms', FONT_DIR)\n",
    "create_pdf(pages, output_filepath, 'arial-unicode-ms', 4)\n",
    "print('%s created' % (output_filepath))"
   ]
  },
  {
   "cell_type": "code",
   "execution_count": 6,
   "metadata": {},
   "outputs": [],
   "source": [
    "FONT_NAME        = 'arial-unicode-ms'\n",
    "FONT_FILENAME    = os.path.join(FONT_DIR, FONT_NAME + '.ttf')\n",
    "pdfmetrics.registerFont(TTFont(FONT_NAME, FONT_FILENAME)) \n"
   ]
  },
  {
   "cell_type": "code",
   "execution_count": 9,
   "metadata": {},
   "outputs": [],
   "source": [
    "page              = pages[0]\n",
    "pdf_filepath      = output_filepath\n"
   ]
  },
  {
   "cell_type": "code",
   "execution_count": 10,
   "metadata": {},
   "outputs": [],
   "source": [
    "A4_SCALE_FACTOR       = 1\n",
    "w, h                  = get_page_dimensions(page)\n",
    "pagesize              = (w/A4_SCALE_FACTOR, h/A4_SCALE_FACTOR)\n",
    "c                     = canvas.Canvas(pdf_filepath, pagesize=pagesize)\n",
    "\n",
    "for line in lines:\n",
    "    boundingBox, text = line['boundingBox'], line['text']\n",
    "    x, y, _, _        = boundingBox\n",
    "    y                 = h - y\n",
    "    draw_line_text(x/A4_SCALE_FACTOR, y/A4_SCALE_FACTOR, text, 1.75, 105, FONT_NAME, 30/A4_SCALE_FACTOR)\n",
    "\n",
    "c.save()"
   ]
  },
  {
   "cell_type": "code",
   "execution_count": 30,
   "metadata": {},
   "outputs": [],
   "source": [
    "SCALE_FACTOR_A4_72DPI = 4\n",
    "\n",
    "c = canvas.Canvas(output_filepath, pagesize=(page_width/SCALE_FACTOR_A4_72DPI, page_height/SCALE_FACTOR_A4_72DPI))\n",
    "\n",
    "for index, row in df.iterrows():\n",
    "    text, left, top, font_size = row['text'], row['left'], page_height - row['top'], row['font_size']\n",
    "    c.setLineWidth(0.5)\n",
    "    c.setFont(FONT_NAME, 30/SCALE_FACTOR_A4_72DPI)\n",
    "    c.drawString(left/SCALE_FACTOR_A4_72DPI, top/SCALE_FACTOR_A4_72DPI, text)\n",
    "\n",
    "c.save()"
   ]
  },
  {
   "cell_type": "code",
   "execution_count": null,
   "metadata": {},
   "outputs": [],
   "source": [
    "def create_pdf_file(pages, pdf_filepath):\n",
    "    SCALE_FACTOR_A4_72DPI = 4\n",
    "#     page_size             = (page_width/SCALE_FACTOR_A4_72DPI, page_height/SCALE_FACTOR_A4_72DPI))\n",
    "    c                     = canvas.Canvas(pdf_filepath, pagesize=A4)\n",
    "\n",
    "    for page in pages:\n",
    "        _, _, page_width, page_height = vertices_to_boundingbox(page['vertices'])\n",
    "        words                         = get_page_words(page)\n",
    "        df                            = words_to_dataframe(words)\n",
    "        print('total number of words %d, page_width %d, page_height %d' % (len(words), page_width, page_height))\n",
    "        \n",
    "        for index, row in df.iterrows():\n",
    "            text, left, top, font_size = row['text'], row['left'], page_height - row['top'], row['font_size']\n",
    "            c.setLineWidth(0.5)\n",
    "            c.setFont(FONT_NAME, 30/SCALE_FACTOR_A4_72DPI)\n",
    "            c.drawString(left/SCALE_FACTOR_A4_72DPI, top/SCALE_FACTOR_A4_72DPI, text)\n",
    "        \n",
    "        c.showPage()\n",
    "\n",
    "    c.save()\n"
   ]
  }
 ],
 "metadata": {
  "kernelspec": {
   "display_name": "Python [conda env:pdf]",
   "language": "python",
   "name": "conda-env-pdf-py"
  },
  "language_info": {
   "codemirror_mode": {
    "name": "ipython",
    "version": 3
   },
   "file_extension": ".py",
   "mimetype": "text/x-python",
   "name": "python",
   "nbconvert_exporter": "python",
   "pygments_lexer": "ipython3",
   "version": "3.7.10"
  }
 },
 "nbformat": 4,
 "nbformat_minor": 2
}
